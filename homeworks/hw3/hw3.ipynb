{
  "cells": [
    {
      "cell_type": "markdown",
      "metadata": {
        "id": "mNQ-I1PUU-PH"
      },
      "source": [
        "# hw3 - ensembles"
      ]
    },
    {
      "cell_type": "markdown",
      "metadata": {
        "id": "0ENj9WzCU-SK"
      },
      "source": [
        "## 1 Подготовка данных"
      ]
    },
    {
      "cell_type": "markdown",
      "metadata": {
        "id": "_MDgqWu9U-U-"
      },
      "source": [
        "Загрузите и предобработайте данные (по своему усмотрению) из hw1"
      ]
    },
    {
      "cell_type": "code",
      "execution_count": 2,
      "metadata": {
        "id": "IbSGi7csVlYZ",
        "outputId": "67149dc4-8d86-48ca-a5b4-a7712a6481cd",
        "colab": {
          "base_uri": "https://localhost:8080/",
          "height": 73
        }
      },
      "outputs": [
        {
          "output_type": "display_data",
          "data": {
            "text/plain": [
              "<IPython.core.display.HTML object>"
            ],
            "text/html": [
              "\n",
              "     <input type=\"file\" id=\"files-af95d161-514f-46d8-9a53-a5e190849996\" name=\"files[]\" multiple disabled\n",
              "        style=\"border:none\" />\n",
              "     <output id=\"result-af95d161-514f-46d8-9a53-a5e190849996\">\n",
              "      Upload widget is only available when the cell has been executed in the\n",
              "      current browser session. Please rerun this cell to enable.\n",
              "      </output>\n",
              "      <script>// Copyright 2017 Google LLC\n",
              "//\n",
              "// Licensed under the Apache License, Version 2.0 (the \"License\");\n",
              "// you may not use this file except in compliance with the License.\n",
              "// You may obtain a copy of the License at\n",
              "//\n",
              "//      http://www.apache.org/licenses/LICENSE-2.0\n",
              "//\n",
              "// Unless required by applicable law or agreed to in writing, software\n",
              "// distributed under the License is distributed on an \"AS IS\" BASIS,\n",
              "// WITHOUT WARRANTIES OR CONDITIONS OF ANY KIND, either express or implied.\n",
              "// See the License for the specific language governing permissions and\n",
              "// limitations under the License.\n",
              "\n",
              "/**\n",
              " * @fileoverview Helpers for google.colab Python module.\n",
              " */\n",
              "(function(scope) {\n",
              "function span(text, styleAttributes = {}) {\n",
              "  const element = document.createElement('span');\n",
              "  element.textContent = text;\n",
              "  for (const key of Object.keys(styleAttributes)) {\n",
              "    element.style[key] = styleAttributes[key];\n",
              "  }\n",
              "  return element;\n",
              "}\n",
              "\n",
              "// Max number of bytes which will be uploaded at a time.\n",
              "const MAX_PAYLOAD_SIZE = 100 * 1024;\n",
              "\n",
              "function _uploadFiles(inputId, outputId) {\n",
              "  const steps = uploadFilesStep(inputId, outputId);\n",
              "  const outputElement = document.getElementById(outputId);\n",
              "  // Cache steps on the outputElement to make it available for the next call\n",
              "  // to uploadFilesContinue from Python.\n",
              "  outputElement.steps = steps;\n",
              "\n",
              "  return _uploadFilesContinue(outputId);\n",
              "}\n",
              "\n",
              "// This is roughly an async generator (not supported in the browser yet),\n",
              "// where there are multiple asynchronous steps and the Python side is going\n",
              "// to poll for completion of each step.\n",
              "// This uses a Promise to block the python side on completion of each step,\n",
              "// then passes the result of the previous step as the input to the next step.\n",
              "function _uploadFilesContinue(outputId) {\n",
              "  const outputElement = document.getElementById(outputId);\n",
              "  const steps = outputElement.steps;\n",
              "\n",
              "  const next = steps.next(outputElement.lastPromiseValue);\n",
              "  return Promise.resolve(next.value.promise).then((value) => {\n",
              "    // Cache the last promise value to make it available to the next\n",
              "    // step of the generator.\n",
              "    outputElement.lastPromiseValue = value;\n",
              "    return next.value.response;\n",
              "  });\n",
              "}\n",
              "\n",
              "/**\n",
              " * Generator function which is called between each async step of the upload\n",
              " * process.\n",
              " * @param {string} inputId Element ID of the input file picker element.\n",
              " * @param {string} outputId Element ID of the output display.\n",
              " * @return {!Iterable<!Object>} Iterable of next steps.\n",
              " */\n",
              "function* uploadFilesStep(inputId, outputId) {\n",
              "  const inputElement = document.getElementById(inputId);\n",
              "  inputElement.disabled = false;\n",
              "\n",
              "  const outputElement = document.getElementById(outputId);\n",
              "  outputElement.innerHTML = '';\n",
              "\n",
              "  const pickedPromise = new Promise((resolve) => {\n",
              "    inputElement.addEventListener('change', (e) => {\n",
              "      resolve(e.target.files);\n",
              "    });\n",
              "  });\n",
              "\n",
              "  const cancel = document.createElement('button');\n",
              "  inputElement.parentElement.appendChild(cancel);\n",
              "  cancel.textContent = 'Cancel upload';\n",
              "  const cancelPromise = new Promise((resolve) => {\n",
              "    cancel.onclick = () => {\n",
              "      resolve(null);\n",
              "    };\n",
              "  });\n",
              "\n",
              "  // Wait for the user to pick the files.\n",
              "  const files = yield {\n",
              "    promise: Promise.race([pickedPromise, cancelPromise]),\n",
              "    response: {\n",
              "      action: 'starting',\n",
              "    }\n",
              "  };\n",
              "\n",
              "  cancel.remove();\n",
              "\n",
              "  // Disable the input element since further picks are not allowed.\n",
              "  inputElement.disabled = true;\n",
              "\n",
              "  if (!files) {\n",
              "    return {\n",
              "      response: {\n",
              "        action: 'complete',\n",
              "      }\n",
              "    };\n",
              "  }\n",
              "\n",
              "  for (const file of files) {\n",
              "    const li = document.createElement('li');\n",
              "    li.append(span(file.name, {fontWeight: 'bold'}));\n",
              "    li.append(span(\n",
              "        `(${file.type || 'n/a'}) - ${file.size} bytes, ` +\n",
              "        `last modified: ${\n",
              "            file.lastModifiedDate ? file.lastModifiedDate.toLocaleDateString() :\n",
              "                                    'n/a'} - `));\n",
              "    const percent = span('0% done');\n",
              "    li.appendChild(percent);\n",
              "\n",
              "    outputElement.appendChild(li);\n",
              "\n",
              "    const fileDataPromise = new Promise((resolve) => {\n",
              "      const reader = new FileReader();\n",
              "      reader.onload = (e) => {\n",
              "        resolve(e.target.result);\n",
              "      };\n",
              "      reader.readAsArrayBuffer(file);\n",
              "    });\n",
              "    // Wait for the data to be ready.\n",
              "    let fileData = yield {\n",
              "      promise: fileDataPromise,\n",
              "      response: {\n",
              "        action: 'continue',\n",
              "      }\n",
              "    };\n",
              "\n",
              "    // Use a chunked sending to avoid message size limits. See b/62115660.\n",
              "    let position = 0;\n",
              "    do {\n",
              "      const length = Math.min(fileData.byteLength - position, MAX_PAYLOAD_SIZE);\n",
              "      const chunk = new Uint8Array(fileData, position, length);\n",
              "      position += length;\n",
              "\n",
              "      const base64 = btoa(String.fromCharCode.apply(null, chunk));\n",
              "      yield {\n",
              "        response: {\n",
              "          action: 'append',\n",
              "          file: file.name,\n",
              "          data: base64,\n",
              "        },\n",
              "      };\n",
              "\n",
              "      let percentDone = fileData.byteLength === 0 ?\n",
              "          100 :\n",
              "          Math.round((position / fileData.byteLength) * 100);\n",
              "      percent.textContent = `${percentDone}% done`;\n",
              "\n",
              "    } while (position < fileData.byteLength);\n",
              "  }\n",
              "\n",
              "  // All done.\n",
              "  yield {\n",
              "    response: {\n",
              "      action: 'complete',\n",
              "    }\n",
              "  };\n",
              "}\n",
              "\n",
              "scope.google = scope.google || {};\n",
              "scope.google.colab = scope.google.colab || {};\n",
              "scope.google.colab._files = {\n",
              "  _uploadFiles,\n",
              "  _uploadFilesContinue,\n",
              "};\n",
              "})(self);\n",
              "</script> "
            ]
          },
          "metadata": {}
        },
        {
          "output_type": "stream",
          "name": "stdout",
          "text": [
            "Saving train_features_with_answers.csv to train_features_with_answers.csv\n"
          ]
        }
      ],
      "source": [
        "from google.colab import files\n",
        "uploaded = files.upload()"
      ]
    },
    {
      "cell_type": "code",
      "source": [
        "import pandas as pd\n",
        "import numpy as np\n",
        "import seaborn as sns"
      ],
      "metadata": {
        "id": "CpMYjsnejnUM"
      },
      "execution_count": 3,
      "outputs": []
    },
    {
      "cell_type": "code",
      "source": [
        "# Читаем данные\n",
        "\n",
        "X_train = pd.read_csv('train_features_with_answers.csv')\n",
        "X_train.info()"
      ],
      "metadata": {
        "id": "oKCbVroMjpLH",
        "outputId": "48f68a30-d0ab-477f-feaa-5e13a523640c",
        "colab": {
          "base_uri": "https://localhost:8080/"
        }
      },
      "execution_count": 4,
      "outputs": [
        {
          "output_type": "stream",
          "name": "stdout",
          "text": [
            "<class 'pandas.core.frame.DataFrame'>\n",
            "RangeIndex: 454 entries, 0 to 453\n",
            "Data columns (total 31 columns):\n",
            " #   Column      Non-Null Count  Dtype  \n",
            "---  ------      --------------  -----  \n",
            " 0   school      454 non-null    object \n",
            " 1   sex         454 non-null    object \n",
            " 2   age         426 non-null    float64\n",
            " 3   address     449 non-null    object \n",
            " 4   famsize     454 non-null    object \n",
            " 5   Pstatus     454 non-null    object \n",
            " 6   Medu        454 non-null    int64  \n",
            " 7   Fedu        454 non-null    int64  \n",
            " 8   Mjob        454 non-null    object \n",
            " 9   Fjob        454 non-null    object \n",
            " 10  reason      454 non-null    object \n",
            " 11  guardian    454 non-null    object \n",
            " 12  traveltime  454 non-null    int64  \n",
            " 13  studytime   454 non-null    int64  \n",
            " 14  failures    454 non-null    int64  \n",
            " 15  schoolsup   454 non-null    object \n",
            " 16  famsup      454 non-null    object \n",
            " 17  paid        454 non-null    object \n",
            " 18  activities  454 non-null    object \n",
            " 19  nursery     454 non-null    object \n",
            " 20  higher      454 non-null    object \n",
            " 21  internet    454 non-null    object \n",
            " 22  romantic    454 non-null    object \n",
            " 23  famrel      454 non-null    int64  \n",
            " 24  freetime    454 non-null    int64  \n",
            " 25  goout       454 non-null    int64  \n",
            " 26  Dalc        454 non-null    int64  \n",
            " 27  Walc        454 non-null    int64  \n",
            " 28  health      454 non-null    int64  \n",
            " 29  absences    454 non-null    int64  \n",
            " 30  G3          454 non-null    int64  \n",
            "dtypes: float64(1), int64(13), object(17)\n",
            "memory usage: 110.1+ KB\n"
          ]
        }
      ]
    },
    {
      "cell_type": "code",
      "source": [
        "X_train['sex'] = X_train['sex'].where(X_train['sex'].isin([\"F\", \"M\"]), np.nan)\n",
        "\n",
        "X_train['age'] = X_train['age'].where(\n",
        "    ~X_train['age'].isna() & (X_train['age'] >= 15) & (X_train['age'] <= 22),\n",
        "    np.nan\n",
        ")"
      ],
      "metadata": {
        "id": "rINCMKATjtt9"
      },
      "execution_count": 5,
      "outputs": []
    },
    {
      "cell_type": "code",
      "source": [
        "X_train = X_train.drop(columns=['Fedu', 'Dalc'])"
      ],
      "metadata": {
        "id": "ZQoiAeYcj5nX"
      },
      "execution_count": 6,
      "outputs": []
    },
    {
      "cell_type": "code",
      "source": [
        "def fill_nan_with_closest_match(df, column):\n",
        "    def similarity(row1, row2, numeric_columns):\n",
        "        diff = row1[numeric_columns] - row2[numeric_columns]\n",
        "        return np.sqrt((diff**2).sum())\n",
        "\n",
        "    numeric_columns = df.select_dtypes(include=[np.number]).columns.tolist()\n",
        "\n",
        "    if column in numeric_columns:\n",
        "        numeric_columns.remove(column)\n",
        "\n",
        "    df_copy = df.copy()\n",
        "    nan_indices = df[df[column].isna()].index\n",
        "\n",
        "    for idx in nan_indices:\n",
        "        current_row = df_copy.loc[idx]\n",
        "        candidates = df_copy.drop(idx).dropna(subset=[column])\n",
        "\n",
        "        similarities = candidates.apply(lambda row: similarity(current_row, row, numeric_columns), axis=1)\n",
        "\n",
        "        closest_match_idx = similarities.idxmin()\n",
        "\n",
        "        df_copy.at[idx, column] = df_copy.at[closest_match_idx, column]\n",
        "\n",
        "    return df_copy\n",
        "\n",
        "df = fill_nan_with_closest_match(X_train, 'sex')\n",
        "df  = fill_nan_with_closest_match(df, 'age')\n",
        "df = fill_nan_with_closest_match(df, 'address')"
      ],
      "metadata": {
        "id": "zcCHYysdj76F"
      },
      "execution_count": 7,
      "outputs": []
    },
    {
      "cell_type": "code",
      "source": [
        "from sklearn.preprocessing import OneHotEncoder\n",
        "\n",
        "encoder = OneHotEncoder(sparse_output=False)\n",
        "\n",
        "categorical = [\"school\", \"sex\", \"address\", \"famsize\", \"Pstatus\",\n",
        "               \"Mjob\", \"Fjob\", \"reason\",\"guardian\",\n",
        "               \"schoolsup\", \"famsup\", \"paid\", \"activities\",\n",
        "               \"nursery\", \"higher\", \"internet\", \"romantic\"]\n",
        "\n",
        "encoded_array = encoder.fit_transform(df[categorical])\n",
        "encoded_df = pd.DataFrame(encoded_array, columns=encoder.get_feature_names_out(categorical))\n",
        "df = pd.concat([df.drop(categorical, axis=1), encoded_df], axis=1)"
      ],
      "metadata": {
        "id": "o0vTUbezj_mi"
      },
      "execution_count": 8,
      "outputs": []
    },
    {
      "cell_type": "code",
      "source": [
        "from sklearn.model_selection import StratifiedKFold\n",
        "from imblearn.over_sampling import SMOTE, RandomOverSampler\n",
        "\n",
        "X = df.drop(columns=['G3'])\n",
        "y = df['G3']\n",
        "\n",
        "smote = SMOTE(sampling_strategy={0: 20, 7: 20, 18: 20}, random_state=42, k_neighbors=5)\n",
        "ros = RandomOverSampler(sampling_strategy={1: 10, 5: 10, 6: 10, 19: 10}, random_state=42) #их слишком мало для SMOTE\n",
        "\n",
        "\n",
        "X_resampled, y_resampled = smote.fit_resample(X, y)\n",
        "X_resampled, y_resampled = ros.fit_resample(X_resampled, y_resampled)\n",
        "\n",
        "print(\"After Oversampling:\", dict(zip(*np.unique(y_resampled, return_counts=True))))"
      ],
      "metadata": {
        "id": "m3wunQ5A2wa5",
        "outputId": "0ad8692c-cd8c-4f2f-9557-28898a500130",
        "colab": {
          "base_uri": "https://localhost:8080/"
        }
      },
      "execution_count": 9,
      "outputs": [
        {
          "output_type": "stream",
          "name": "stdout",
          "text": [
            "After Oversampling: {0: 20, 1: 10, 5: 10, 6: 10, 7: 20, 8: 26, 9: 26, 10: 70, 11: 69, 12: 47, 13: 60, 14: 47, 15: 36, 16: 23, 17: 21, 18: 20, 19: 10}\n"
          ]
        }
      ]
    },
    {
      "cell_type": "code",
      "source": [
        "#df.info()"
      ],
      "metadata": {
        "collapsed": true,
        "id": "lQQEuoumkCH3"
      },
      "execution_count": 10,
      "outputs": []
    },
    {
      "cell_type": "markdown",
      "metadata": {
        "id": "Em0erMH6WyEV"
      },
      "source": [
        "## 2 Обоснуйте выбор слабых (базовых) алгоритмов"
      ]
    },
    {
      "cell_type": "markdown",
      "source": [
        "Попробуем использовать простые модели из hw1. Все они разные(что важно), но одни сильно коррелируют между собой, а некоторые не так сильно. Посмотрим, как ситуацию улучшат Стекинг и Блендинг. Интересно сравнить со взвешиванием, которое делали в хв1.\n",
        " Сначала посмотрим, как они работают по отдельности, а потом посмотрим как улучшит качество Blending и Stacking"
      ],
      "metadata": {
        "id": "mYJTV5tomp4V"
      }
    },
    {
      "cell_type": "code",
      "execution_count": 11,
      "metadata": {
        "id": "KqC_5cbgWyML"
      },
      "outputs": [],
      "source": [
        "import numpy as np\n",
        "from sklearn.svm import SVC\n",
        "from sklearn.model_selection import train_test_split, cross_val_predict\n",
        "from sklearn.linear_model import LogisticRegression, LinearRegression\n",
        "from sklearn.metrics import accuracy_score, mean_squared_error\n",
        "from sklearn.neighbors import KNeighborsClassifier\n",
        "from sklearn.naive_bayes import GaussianNB\n"
      ]
    },
    {
      "cell_type": "code",
      "source": [
        "X_train, X_test, y_train, y_test = train_test_split(X_resampled, y_resampled, test_size=0.2, random_state=42)\n",
        "\n",
        "model_1 = LogisticRegression(C=0.1, max_iter=10000, random_state=42)\n",
        "model_1.fit(X_train, y_train)\n",
        "preds = model_1.predict(X_test).astype(np.int64)\n",
        "print(\"LogisticRegression Accuracy test:\", mean_squared_error(y_test, preds))\n",
        "print(\"LogisticRegression Accuracy train\", mean_squared_error(y_train, model_1.predict(X_train)))"
      ],
      "metadata": {
        "id": "5JrBa8mL2KuZ",
        "outputId": "0deb0abf-ee68-4a28-b66d-635a4b38a19d",
        "colab": {
          "base_uri": "https://localhost:8080/"
        }
      },
      "execution_count": 12,
      "outputs": [
        {
          "output_type": "stream",
          "name": "stdout",
          "text": [
            "RandomForestClassifier Accuracy test: 6.076190476190476\n",
            "RandomForestClassifier Accuracy train 7.761904761904762\n"
          ]
        }
      ]
    },
    {
      "cell_type": "code",
      "source": [
        "model_2 = SVC(C=0.5, kernel='linear', probability=True, random_state=42)\n",
        "model_2.fit(X_train, y_train)\n",
        "preds = model_2.predict(X_test)\n",
        "print(\"SVC Accuracy test:\", mean_squared_error(y_test, preds))\n",
        "print(\"SVC Accuracy train\", mean_squared_error(y_train, model_2.predict(X_train)))"
      ],
      "metadata": {
        "id": "9EZo8V-J7wfq",
        "outputId": "1cde3d26-e67a-415f-f5ca-5b43033d734a",
        "colab": {
          "base_uri": "https://localhost:8080/"
        }
      },
      "execution_count": 13,
      "outputs": [
        {
          "output_type": "stream",
          "name": "stdout",
          "text": [
            "GradientBoostingClassifier Accuracy test: 4.866666666666666\n",
            "GradientBoostingClassifier Accuracy train 3.9404761904761907\n"
          ]
        }
      ]
    },
    {
      "cell_type": "code",
      "source": [
        "model_3 = KNeighborsClassifier(n_neighbors=1)\n",
        "model_3.fit(X_train, y_train)\n",
        "preds = model_3.predict(X_test).astype(np.int64)\n",
        "print(\"KNeighborsClassifier Accuracy test:\", mean_squared_error(y_test, preds))\n",
        "print(\"KNeighborsClassifier Accuracy train\", mean_squared_error(y_train, model_3.predict(X_train)))"
      ],
      "metadata": {
        "id": "7FT6spRGMy77",
        "outputId": "61db7cab-516d-49d5-ed3e-ff074331e6eb",
        "colab": {
          "base_uri": "https://localhost:8080/"
        }
      },
      "execution_count": 14,
      "outputs": [
        {
          "output_type": "stream",
          "name": "stdout",
          "text": [
            "RandomForestClassifier Accuracy test: 7.914285714285715\n",
            "RandomForestClassifier Accuracy train 0.0\n"
          ]
        }
      ]
    },
    {
      "cell_type": "code",
      "source": [
        "model_4 = GaussianNB()\n",
        "model_4.fit(X_train, y_train)\n",
        "preds = model_4.predict(X_test).astype(np.int64)\n",
        "print(\"GaussianNB Accuracy test:\", mean_squared_error(y_test, preds))\n",
        "print(\"GaussianNB Accuracy train\", mean_squared_error(y_train, model_4.predict(X_train)))"
      ],
      "metadata": {
        "id": "EUILn50QN2a-",
        "outputId": "8f1225bb-e781-47b0-feef-41c777962dd0",
        "colab": {
          "base_uri": "https://localhost:8080/"
        }
      },
      "execution_count": 16,
      "outputs": [
        {
          "output_type": "stream",
          "name": "stdout",
          "text": [
            "RandomForestClassifier Accuracy test: 21.18095238095238\n",
            "RandomForestClassifier Accuracy train 18.24047619047619\n"
          ]
        }
      ]
    },
    {
      "cell_type": "code",
      "source": [
        "model_1 = LogisticRegression(C=0.1, max_iter=10000, random_state=42)\n",
        "model_2 = SVC(C=0.5, kernel='linear', probability=True, random_state=42)\n",
        "model_3 = KNeighborsClassifier(n_neighbors=1)\n",
        "model_4 = GaussianNB()\n",
        "\n",
        "models = [model_1, model_2, model_3, model_4]\n",
        "\n",
        "X_train, X_test, y_train, y_test = train_test_split(X_resampled, y_resampled, test_size=0.1, random_state=42)\n",
        "X_train_train, X_val, y_train_train, y_val = train_test_split(X_train, y_train, test_size=0.2, random_state=42)"
      ],
      "metadata": {
        "id": "fkCdqYFUVOFv"
      },
      "execution_count": 42,
      "outputs": []
    },
    {
      "cell_type": "markdown",
      "metadata": {
        "id": "R08QEdnPU-X5"
      },
      "source": [
        "## 3 Постройте решение на основе подхода Blending"
      ]
    },
    {
      "cell_type": "markdown",
      "metadata": {
        "id": "sF_TRbWxYQ8p"
      },
      "source": [
        "Правила:\n",
        "- Нужно использовать вероятности\n",
        "- Предложите что-то лучше, чем брать среднее от предсказаний моделей (оценивать уверенность алгоритмов, точности и т.д.)\n",
        "- Заставьте базовые алгоритмы быть некорелированными\n",
        "- Добавьте рандома (например, стройте ваши алгоритмы на разных выборках, по разному предобрабатывайте данные или применяйте для разных признаков соответствующие алгоритмы ... )\n",
        "- Проявите смекалку\n",
        "- Цель: метрика MSE на тесте меньше 10"
      ]
    },
    {
      "cell_type": "code",
      "execution_count": 43,
      "metadata": {
        "id": "I-Kw6bNqPUoj",
        "outputId": "814ba56d-d57d-422b-ec5f-08bf448ffc74",
        "colab": {
          "base_uri": "https://localhost:8080/"
        }
      },
      "outputs": [
        {
          "output_type": "stream",
          "name": "stdout",
          "text": [
            "Blending MSE: 4.113207547169812\n"
          ]
        }
      ],
      "source": [
        "preds_val = []\n",
        "\n",
        "for model in models:\n",
        "  model.fit(X_train_train, y_train_train)\n",
        "  preds_val.append(pd.Series(model.predict(X_val)))\n",
        "\n",
        "# Создание метапризнаков для blending\n",
        "meta_features = pd.concat(preds_val, axis=1)\n",
        "\n",
        "# Метамодель\n",
        "meta_model = LinearRegression()\n",
        "meta_model.fit(meta_features, y_val)\n",
        "\n",
        "preds_test = []\n",
        "\n",
        "for model in models:\n",
        "  preds_test.append(pd.Series(model.predict(X_test)))\n",
        "\n",
        "#Создание новых тестовых данных\n",
        "X_test = pd.concat(preds_test, axis=1)\n",
        "# print(X_test)\n",
        "\n",
        "# Оценка на тестовой выборке\n",
        "blended_preds = meta_model.predict(X_test).astype(np.int64)\n",
        "print(\"Blending MSE:\", mean_squared_error(y_test, blended_preds))"
      ]
    },
    {
      "cell_type": "code",
      "source": [
        "model_1 = LogisticRegression(C=0.1, max_iter=10000, random_state=42)\n",
        "model_2 = SVC(C=0.5, kernel='linear', probability=True, random_state=42)\n",
        "model_3 = KNeighborsClassifier(n_neighbors=1)\n",
        "model_4 = GaussianNB()\n",
        "\n",
        "models = [model_1, model_2, model_3, model_4]\n",
        "\n",
        "X_train, X_test, y_train, y_test = train_test_split(X_resampled, y_resampled, test_size=0.1, random_state=42)\n",
        "X_train_train, X_val, y_train_train, y_val = train_test_split(X_train, y_train, test_size=0.2, random_state=42)"
      ],
      "metadata": {
        "id": "l2tMwf1TUs2E"
      },
      "execution_count": 44,
      "outputs": []
    },
    {
      "cell_type": "markdown",
      "metadata": {
        "id": "iRmBr8VRWolP"
      },
      "source": [
        "## 4 Постройте решение на основе подхода Stacking"
      ]
    },
    {
      "cell_type": "markdown",
      "metadata": {
        "id": "5oYYsgNRasfs"
      },
      "source": [
        "Правила:\n",
        "- Реализуйте пайплайн обучения и предсказания (например, sklearn.pipeline или класс)\n",
        "- Проведите оптимизацию пайплайна\n",
        "- Оцените вклад каждого базового алгоритма в итоговое предсказание\n",
        "- Цель: метрика MSE на тесте меньше 10"
      ]
    },
    {
      "cell_type": "code",
      "execution_count": 45,
      "metadata": {
        "id": "Bc74w6f_WotV",
        "outputId": "ebcde668-eabf-4d49-f7a6-baf6df2d73c3",
        "colab": {
          "base_uri": "https://localhost:8080/"
        }
      },
      "outputs": [
        {
          "output_type": "stream",
          "name": "stdout",
          "text": [
            "Stacking MSE: 3.703677193151149\n"
          ]
        }
      ],
      "source": [
        "preds_cv = []\n",
        "\n",
        "for model in models:\n",
        "  preds_cv.append(pd.Series(cross_val_predict(model, X_train, y_train, cv=5).ravel()))\n",
        "  model.fit(X_train, y_train)\n",
        "\n",
        "# Создание мета-признаков для blending\n",
        "meta_features = pd.concat(preds_cv, axis=1)\n",
        "\n",
        "# Обучение метамодели на мета-признаках\n",
        "meta_model.fit(meta_features, y_train)\n",
        "\n",
        "# Финальное предсказание на тестовых данных\n",
        "test_preds = []\n",
        "for model in models:\n",
        "  test_preds.append(pd.Series(model.predict(X_test)))\n",
        "\n",
        "X_test_final = pd.concat(test_preds, axis=1)\n",
        "stacked_preds = meta_model.predict(X_test_final)\n",
        "\n",
        "print(\"Stacking MSE:\", mean_squared_error(y_test, stacked_preds))"
      ]
    },
    {
      "cell_type": "markdown",
      "source": [
        "Интересный вывод: при использовании первых двух(LogisticRegression, SVM) или первых трех(LogisticRegression, SVM, knn) Блендинг и Стекинг дают качество хуже, чем лучшая из двух(трех) моделей.\n",
        "Но при добавлении четвертой модели (Наивный Баес), который сам по себе дает ужасную метрику(худшую среди всех моделей), у нас заметно улучшается качество на Блендинге и Стекинге, и появляется смысл их использовать(качество лучше чем у лучшей из 4-х моделей). Почему так? Видимо потому, что первые три модели сильно коррелируют с коэффом 0.8-0.9(что мы выяснили в хв1), а вот Баес коррелирует с остальными моделями не так сильно.\n",
        "Итак, мы проверили на практике, что имеет смысл использовать модели, которые не сильно коррелируют, даже если сами по себе они дают плохую метрику"
      ],
      "metadata": {
        "id": "9oRf_2E4kD0G"
      }
    },
    {
      "cell_type": "markdown",
      "metadata": {
        "id": "gOSFp3Y9cO4r"
      },
      "source": [
        "## * Доп задание (не обязательно, но решение будет поощряться)"
      ]
    },
    {
      "cell_type": "markdown",
      "metadata": {
        "id": "biFb-0hPcqk6"
      },
      "source": [
        "Правила:\n",
        "- Постройте несколько сильных алгоритмов разного класса (это может быть бустинг, нейросеть, ансамбль слабых алгоритмов, алгоритм на статистике, что придумаете)\n",
        "- Реализуйте \"управляющий\" алгоритм, который на основе входных данных будет выбирать, какой из  сильных алгоритмов запустить (не на основе их работы, а именно на основе данных)"
      ]
    },
    {
      "cell_type": "code",
      "execution_count": null,
      "metadata": {
        "id": "yD-jrz7CcPAo"
      },
      "outputs": [],
      "source": []
    },
    {
      "cell_type": "code",
      "execution_count": null,
      "metadata": {
        "id": "e_vb2_cxVyWP"
      },
      "outputs": [],
      "source": []
    }
  ],
  "metadata": {
    "colab": {
      "provenance": [],
      "toc_visible": true
    },
    "kernelspec": {
      "display_name": "Python 3 (ipykernel)",
      "language": "python",
      "name": "python3"
    },
    "language_info": {
      "codemirror_mode": {
        "name": "ipython",
        "version": 3
      },
      "file_extension": ".py",
      "mimetype": "text/x-python",
      "name": "python",
      "nbconvert_exporter": "python",
      "pygments_lexer": "ipython3",
      "version": "3.12.3"
    }
  },
  "nbformat": 4,
  "nbformat_minor": 0
}